{
  "cells": [
    {
      "cell_type": "markdown",
      "metadata": {},
      "source": [
        "## **Construction d'un algorithme de prédiction du nombre d'observations pour les mois à venir**"
      ]
    },
    {
      "cell_type": "markdown",
      "metadata": {},
      "source": [
        "Données extaites du site iNaturalist.org : https://www.inaturalist.org/pages/developers - http://www.inaturalist.org/observations/gbif-observations-dwca.zip"
      ]
    },
    {
      "cell_type": "markdown",
      "metadata": {},
      "source": [
        "### But de cet algorithme : \n",
        "\n",
        "Déterminer à l'avance le nombre d'observations globales sur le site d'iNaturalist pour les 18 mois suivants.\n",
        "Cela peut premettre d'anticiper les pré-requis techniques en fonction de la charge attendue sur le site.\n",
        "\n",
        "Appliqué à une espèce en particulier, cela peut également permettre de constater si des observations d'une espèce ne sont pas au niveau attendu, et rechercher une explication (exemples, au niveau du site, moins populaire dans cette partie du globe / au niveau de l'espèce, moins observable cette année ou dont la population diminue, etc etc...)"
      ]
    },
    {
      "cell_type": "markdown",
      "metadata": {},
      "source": [
        "1er traitement des données fait sur KNIME (data preparation) :"
      ]
    },
    {
      "attachments": {
        "image.png": {
          "image/png": "[encoded data removed]"
        }
      },
      "cell_type": "markdown",
      "metadata": {},
      "source": [
        "![image.png](attachment:image.png)"
      ]
    },
    {
      "cell_type": "markdown",
      "metadata": {
        "id": "dht9_JMeYPej"
      },
      "source": [
        "## 1. Imports bibliothèques python"
      ]
    },
    {
      "cell_type": "code",
      "execution_count": 1,
      "metadata": {},
      "outputs": [],
      "source": [
        "import numpy as np\n",
        "import pandas as pd\n",
        "\n",
        "from sklearn.preprocessing import MinMaxScaler\n",
        "from sklearn.metrics import mean_squared_error\n",
        "\n",
        "from tensorflow.keras.models import Sequential\n",
        "from tensorflow.keras.layers import LSTM, Dense, Dropout\n",
        "from tensorflow.keras.callbacks import EarlyStopping\n",
        "from tensorflow.keras.preprocessing.sequence import TimeseriesGenerator\n",
        "\n",
        "import matplotlib.pyplot as plt\n",
        "import plotly.express as px\n",
        "\n",
        "from sklearn.metrics import r2_score\n"
      ]
    },
    {
      "cell_type": "markdown",
      "metadata": {},
      "source": [
        "## 2. Import, compréhension et transformation des données\n",
        "Data preparation"
      ]
    },
    {
      "cell_type": "markdown",
      "metadata": {},
      "source": [
        "Import du fichier généré via KNIME avec 2 colonnes : DATE et id"
      ]
    },
    {
      "cell_type": "code",
      "execution_count": 2,
      "metadata": {},
      "outputs": [],
      "source": [
        "df = pd.read_csv('WORLD_ID_DATES.csv') "
      ]
    },
    {
      "cell_type": "markdown",
      "metadata": {},
      "source": [
        "A quoi ressemble notre dataset ?\n",
        "\n",
        "Un index de 0 à 68755814, une colonne DATE au format AAAA-MM-JJ et une colonne id"
      ]
    },
    {
      "cell_type": "code",
      "execution_count": 3,
      "metadata": {},
      "outputs": [
        {
          "name": "stdout",
          "output_type": "stream",
          "text": [
            "                DATE         id\n",
            "0         2022-08-31  133060946\n",
            "1         2022-08-24  133060959\n",
            "2         2022-08-31  133060960\n",
            "3         2022-08-31  133060970\n",
            "4         2022-08-31  133060971\n",
            "...              ...        ...\n",
            "68755810  2019-04-06   22176809\n",
            "68755811  2019-04-04   22176815\n",
            "68755812  2019-04-05   22176817\n",
            "68755813  2019-04-07   22176823\n",
            "68755814  2017-05-20   22176824\n",
            "\n",
            "[68755815 rows x 2 columns]\n"
          ]
        }
      ],
      "source": [
        "print(df)"
      ]
    },
    {
      "cell_type": "markdown",
      "metadata": {},
      "source": [
        "Je vérifie que tous les id sont bien uniques"
      ]
    },
    {
      "cell_type": "code",
      "execution_count": 4,
      "metadata": {},
      "outputs": [
        {
          "data": {
            "text/plain": [
              "68755815"
            ]
          },
          "execution_count": 4,
          "metadata": {},
          "output_type": "execute_result"
        }
      ],
      "source": [
        "df['id'].nunique()"
      ]
    },
    {
      "cell_type": "markdown",
      "metadata": {},
      "source": [
        "C'est bien le cas, on a autant d'id uniques que de lignes dans le dataframe Pandas."
      ]
    },
    {
      "cell_type": "code",
      "execution_count": 5,
      "metadata": {},
      "outputs": [
        {
          "name": "stdout",
          "output_type": "stream",
          "text": [
            "<class 'pandas.core.frame.DataFrame'>\n",
            "RangeIndex: 68755815 entries, 0 to 68755814\n",
            "Data columns (total 2 columns):\n",
            " #   Column  Dtype \n",
            "---  ------  ----- \n",
            " 0   DATE    object\n",
            " 1   id      int64 \n",
            "dtypes: int64(1), object(1)\n",
            "memory usage: 1.0+ GB\n"
          ]
        }
      ],
      "source": [
        "df.info()"
      ]
    },
    {
      "attachments": {
        "image.png": {
          "image/png": "[encoded data removed]"
        }
      },
      "cell_type": "markdown",
      "metadata": {},
      "source": [
        "On sait, car il est précisé dans la sources des données, que ces données sont de type \"grade Recherche\", qui est un indicateur de qualité tenu par le site iNaturalist, et on peut donc les considérer fiables.\n",
        "Il ne faut déterminer que la plage de dates à prendre en compte pour pouvoir créer cet algorithme avec fiabilité\n",
        "\n",
        "![image.png](attachment:image.png)"
      ]
    },
    {
      "cell_type": "markdown",
      "metadata": {},
      "source": [
        "Première représentation graphique des données "
      ]
    },
    {
      "cell_type": "code",
      "execution_count": 6,
      "metadata": {},
      "outputs": [
        {
          "data": {
            "image/png": "[encoded data removed]",
            "text/plain": [
              "<Figure size 640x480 with 1 Axes>"
            ]
          },
          "metadata": {},
          "output_type": "display_data"
        }
      ],
      "source": [
        "\n",
        "df_graph = df.groupby(['DATE'])['id'].count()\n",
        "fig, ax = plt.subplots()\n",
        "df_graph.plot(ax=ax)\n",
        "\n",
        "plt.xticks(rotation=90)\n",
        "\n",
        "plt.show()"
      ]
    },
    {
      "cell_type": "markdown",
      "metadata": {},
      "source": [
        "Au vu du graph, j'enlève toutes les valeurs abhérentes ou très peu significatives avant les années 2000.\n",
        "Et je le regarde de nouveau graphiquement"
      ]
    },
    {
      "cell_type": "code",
      "execution_count": 7,
      "metadata": {},
      "outputs": [
        {
          "data": {
            "image/png": "[encoded data removed]",
            "text/plain": [
              "<Figure size 640x480 with 1 Axes>"
            ]
          },
          "metadata": {},
          "output_type": "display_data"
        }
      ],
      "source": [
        "df_recherches_dates = df.loc[df['DATE'] >= '2000-01-01']\n",
        "df_recherches_dates_graph = df_recherches_dates.groupby(['DATE'])['id'].count()\n",
        "fig, ax = plt.subplots()\n",
        "\n",
        "df_recherches_dates_graph.plot(ax=ax)\n",
        "\n",
        "plt.xticks(rotation=90)\n",
        "\n",
        "plt.show()\n",
        "\n"
      ]
    },
    {
      "cell_type": "markdown",
      "metadata": {},
      "source": [
        "J'affine ce que j'avais trouvé précédemment : je décide de prendre les données à partir de l'année 2017.\n",
        "\n",
        "#Les données seront regroupées par mois. Comme j'ai téléchargé le dataset au mois d'août, il n'est pas #complet pour le mois d'août 2023. Je décide d'arrêter les données au 31/07/2023 et réaffiche le graph après ces sélections de données."
      ]
    },
    {
      "cell_type": "code",
      "execution_count": 8,
      "metadata": {},
      "outputs": [],
      "source": [
        "df = df.loc[df['DATE'] >= '2017-01-01']\n",
        "df = df.loc[df['DATE'] <= '2023-07-31']"
      ]
    },
    {
      "cell_type": "code",
      "execution_count": 9,
      "metadata": {},
      "outputs": [
        {
          "data": {
            "image/png": "[encoded data removed]",
            "text/plain": [
              "<Figure size 640x480 with 1 Axes>"
            ]
          },
          "metadata": {},
          "output_type": "display_data"
        }
      ],
      "source": [
        "df_graph = df.groupby(['DATE'])['id'].count()\n",
        "fig, ax = plt.subplots()\n",
        "\n",
        "df_graph.plot(ax=ax)\n",
        "plt.xticks(rotation=90)\n",
        "\n",
        "plt.show()"
      ]
    },
    {
      "cell_type": "markdown",
      "metadata": {},
      "source": [
        "Tri des données du dataset"
      ]
    },
    {
      "cell_type": "code",
      "execution_count": 10,
      "metadata": {},
      "outputs": [],
      "source": [
        "df.sort_values(\"DATE\",inplace=True)"
      ]
    },
    {
      "cell_type": "markdown",
      "metadata": {},
      "source": [
        "Pour pouvoir exploiter les données par mois et prédire le nombre d'observations sur les mois suivants, je ne garde qu'une date, le 1er du mois, pour toutes les données du mois en cours.\n",
        "\n",
        "Par ex, une observation faite le 06/05/2023 aura après le traitement une date de 01/05/2023 "
      ]
    },
    {
      "cell_type": "code",
      "execution_count": 11,
      "metadata": {},
      "outputs": [],
      "source": [
        "df['DATE'] = pd.to_datetime(df['DATE'])\n",
        "df['DATE'] = df['DATE'].dt.to_period('M').dt.to_timestamp()"
      ]
    },
    {
      "cell_type": "markdown",
      "metadata": {},
      "source": [
        "Maintenant que toutes les dates du mois sont regroupées sous une date unique, je peux compter le nombre d'occurence d'observations par mois et réafficher le dataframe pour constater les modifications."
      ]
    },
    {
      "cell_type": "code",
      "execution_count": 12,
      "metadata": {},
      "outputs": [],
      "source": [
        "df = df.groupby(['DATE'])['id'].count()"
      ]
    },
    {
      "cell_type": "code",
      "execution_count": 13,
      "metadata": {},
      "outputs": [
        {
          "name": "stdout",
          "output_type": "stream",
          "text": [
            "DATE\n",
            "2017-01-01     101635\n",
            "2017-02-01     108537\n",
            "2017-03-01     163040\n",
            "2017-04-01     282262\n",
            "2017-05-01     262845\n",
            "               ...   \n",
            "2023-03-01    1068408\n",
            "2023-04-01    1980261\n",
            "2023-05-01    1994896\n",
            "2023-06-01    1776404\n",
            "2023-07-01    1679274\n",
            "Name: id, Length: 79, dtype: int64\n"
          ]
        }
      ],
      "source": [
        "print(df)"
      ]
    },
    {
      "cell_type": "markdown",
      "metadata": {},
      "source": [
        "Le dataframe est maintenant une Series Pandas. Je le re transforme en dataframe et renomme la colonne 'id' en 'nb' pour mieux refléter son contenu"
      ]
    },
    {
      "cell_type": "code",
      "execution_count": 14,
      "metadata": {},
      "outputs": [
        {
          "name": "stdout",
          "output_type": "stream",
          "text": [
            "Avant transformation en DataFrame :  <class 'pandas.core.series.Series'>\n",
            "Après transformation en DataFrame :  <class 'pandas.core.frame.DataFrame'>\n"
          ]
        }
      ],
      "source": [
        "print(\"Avant transformation en DataFrame : \", type(df))\n",
        "\n",
        "df = pd.DataFrame(df)\n",
        "\n",
        "print(\"Après transformation en DataFrame : \", type(df))\n",
        "\n",
        "df.rename(columns={'id':'nb'}, inplace=True)"
      ]
    },
    {
      "cell_type": "markdown",
      "metadata": {},
      "source": [
        "Visualisation du Dataframe df :\n",
        "\n",
        "On remarque que la colonne DATE est maintenant en index du dataframe suites aux transformations.\n",
        "\n",
        "C'est bien ce que l'on recherche pour la suite de l'exploitation des données."
      ]
    },
    {
      "cell_type": "code",
      "execution_count": 15,
      "metadata": {},
      "outputs": [
        {
          "data": {
            "text/html": [
              "<div>\n",
              "<style scoped>\n",
              "    .dataframe tbody tr th:only-of-type {\n",
              "        vertical-align: middle;\n",
              "    }\n",
              "\n",
              "    .dataframe tbody tr th {\n",
              "        vertical-align: top;\n",
              "    }\n",
              "\n",
              "    .dataframe thead th {\n",
              "        text-align: right;\n",
              "    }\n",
              "</style>\n",
              "<table border=\"1\" class=\"dataframe\">\n",
              "  <thead>\n",
              "    <tr style=\"text-align: right;\">\n",
              "      <th></th>\n",
              "      <th>nb</th>\n",
              "    </tr>\n",
              "    <tr>\n",
              "      <th>DATE</th>\n",
              "      <th></th>\n",
              "    </tr>\n",
              "  </thead>\n",
              "  <tbody>\n",
              "    <tr>\n",
              "      <th>2017-01-01</th>\n",
              "      <td>101635</td>\n",
              "    </tr>\n",
              "    <tr>\n",
              "      <th>2017-02-01</th>\n",
              "      <td>108537</td>\n",
              "    </tr>\n",
              "    <tr>\n",
              "      <th>2017-03-01</th>\n",
              "      <td>163040</td>\n",
              "    </tr>\n",
              "    <tr>\n",
              "      <th>2017-04-01</th>\n",
              "      <td>282262</td>\n",
              "    </tr>\n",
              "    <tr>\n",
              "      <th>2017-05-01</th>\n",
              "      <td>262845</td>\n",
              "    </tr>\n",
              "    <tr>\n",
              "      <th>...</th>\n",
              "      <td>...</td>\n",
              "    </tr>\n",
              "    <tr>\n",
              "      <th>2023-03-01</th>\n",
              "      <td>1068408</td>\n",
              "    </tr>\n",
              "    <tr>\n",
              "      <th>2023-04-01</th>\n",
              "      <td>1980261</td>\n",
              "    </tr>\n",
              "    <tr>\n",
              "      <th>2023-05-01</th>\n",
              "      <td>1994896</td>\n",
              "    </tr>\n",
              "    <tr>\n",
              "      <th>2023-06-01</th>\n",
              "      <td>1776404</td>\n",
              "    </tr>\n",
              "    <tr>\n",
              "      <th>2023-07-01</th>\n",
              "      <td>1679274</td>\n",
              "    </tr>\n",
              "  </tbody>\n",
              "</table>\n",
              "<p>79 rows × 1 columns</p>\n",
              "</div>"
            ],
            "text/plain": [
              "                 nb\n",
              "DATE               \n",
              "2017-01-01   101635\n",
              "2017-02-01   108537\n",
              "2017-03-01   163040\n",
              "2017-04-01   282262\n",
              "2017-05-01   262845\n",
              "...             ...\n",
              "2023-03-01  1068408\n",
              "2023-04-01  1980261\n",
              "2023-05-01  1994896\n",
              "2023-06-01  1776404\n",
              "2023-07-01  1679274\n",
              "\n",
              "[79 rows x 1 columns]"
            ]
          },
          "execution_count": 15,
          "metadata": {},
          "output_type": "execute_result"
        }
      ],
      "source": [
        "df"
      ]
    },
    {
      "cell_type": "code",
      "execution_count": 16,
      "metadata": {},
      "outputs": [
        {
          "name": "stdout",
          "output_type": "stream",
          "text": [
            "<class 'pandas.core.frame.DataFrame'>\n",
            "DatetimeIndex: 79 entries, 2017-01-01 to 2023-07-01\n",
            "Data columns (total 1 columns):\n",
            " #   Column  Non-Null Count  Dtype\n",
            "---  ------  --------------  -----\n",
            " 0   nb      79 non-null     int64\n",
            "dtypes: int64(1)\n",
            "memory usage: 1.2 KB\n"
          ]
        }
      ],
      "source": [
        "df.info()"
      ]
    },
    {
      "cell_type": "markdown",
      "metadata": {},
      "source": [
        "Affichage graphique des données du dataframe après modifications"
      ]
    },
    {
      "cell_type": "code",
      "execution_count": 17,
      "metadata": {},
      "outputs": [
        {
          "data": {
            "application/vnd.plotly.v1+json": {
              "config": {
                "plotlyServerURL": "https://plot.ly"
              },
              "data": [
                {
                  "hovertemplate": "DATE=%{x}<br>nb=%{y}<extra></extra>",
                  "legendgroup": "",
                  "line": {
                    "color": "#636efa",
                    "dash": "solid"
                  },
                  "marker": {
                    "symbol": "circle"
                  },
                  "mode": "lines",
                  "name": "",
                  "orientation": "v",
                  "showlegend": false,
                  "type": "scatter",
                  "x": [
                    "2017-01-01T00:00:00",
                    "2017-02-01T00:00:00",
                    "2017-03-01T00:00:00",
                    "2017-04-01T00:00:00",
                    "2017-05-01T00:00:00",
                    "2017-06-01T00:00:00",
                    "2017-07-01T00:00:00",
                    "2017-08-01T00:00:00",
                    "2017-09-01T00:00:00",
                    "2017-10-01T00:00:00",
                    "2017-11-01T00:00:00",
                    "2017-12-01T00:00:00",
                    "2018-01-01T00:00:00",
                    "2018-02-01T00:00:00",
                    "2018-03-01T00:00:00",
                    "2018-04-01T00:00:00",
                    "2018-05-01T00:00:00",
                    "2018-06-01T00:00:00",
                    "2018-07-01T00:00:00",
                    "2018-08-01T00:00:00",
                    "2018-09-01T00:00:00",
                    "2018-10-01T00:00:00",
                    "2018-11-01T00:00:00",
                    "2018-12-01T00:00:00",
                    "2019-01-01T00:00:00",
                    "2019-02-01T00:00:00",
                    "2019-03-01T00:00:00",
                    "2019-04-01T00:00:00",
                    "2019-05-01T00:00:00",
                    "2019-06-01T00:00:00",
                    "2019-07-01T00:00:00",
                    "2019-08-01T00:00:00",
                    "2019-09-01T00:00:00",
                    "2019-10-01T00:00:00",
                    "2019-11-01T00:00:00",
                    "2019-12-01T00:00:00",
                    "2020-01-01T00:00:00",
                    "2020-02-01T00:00:00",
                    "2020-03-01T00:00:00",
                    "2020-04-01T00:00:00",
                    "2020-05-01T00:00:00",
                    "2020-06-01T00:00:00",
                    "2020-07-01T00:00:00",
                    "2020-08-01T00:00:00",
                    "2020-09-01T00:00:00",
                    "2020-10-01T00:00:00",
                    "2020-11-01T00:00:00",
                    "2020-12-01T00:00:00",
                    "2021-01-01T00:00:00",
                    "2021-02-01T00:00:00",
                    "2021-03-01T00:00:00",
                    "2021-04-01T00:00:00",
                    "2021-05-01T00:00:00",
                    "2021-06-01T00:00:00",
                    "2021-07-01T00:00:00",
                    "2021-08-01T00:00:00",
                    "2021-09-01T00:00:00",
                    "2021-10-01T00:00:00",
                    "2021-11-01T00:00:00",
                    "2021-12-01T00:00:00",
                    "2022-01-01T00:00:00",
                    "2022-02-01T00:00:00",
                    "2022-03-01T00:00:00",
                    "2022-04-01T00:00:00",
                    "2022-05-01T00:00:00",
                    "2022-06-01T00:00:00",
                    "2022-07-01T00:00:00",
                    "2022-08-01T00:00:00",
                    "2022-09-01T00:00:00",
                    "2022-10-01T00:00:00",
                    "2022-11-01T00:00:00",
                    "2022-12-01T00:00:00",
                    "2023-01-01T00:00:00",
                    "2023-02-01T00:00:00",
                    "2023-03-01T00:00:00",
                    "2023-04-01T00:00:00",
                    "2023-05-01T00:00:00",
                    "2023-06-01T00:00:00",
                    "2023-07-01T00:00:00"
                  ],
                  "xaxis": "x",
                  "y": [
                    101635,
                    108537,
                    163040,
                    282262,
                    262845,
                    271562,
                    296295,
                    253755,
                    225979,
                    195542,
                    159324,
                    144510,
                    160003,
                    157013,
                    242458,
                    449856,
                    420685,
                    437050,
                    453695,
                    399070,
                    360347,
                    310044,
                    236918,
                    221616,
                    250555,
                    248334,
                    417944,
                    848615,
                    710993,
                    782423,
                    860628,
                    784955,
                    640776,
                    517756,
                    355589,
                    320619,
                    379374,
                    410088,
                    593517,
                    1106497,
                    1315372,
                    1361032,
                    1416942,
                    1242617,
                    1112573,
                    845706,
                    575142,
                    472354,
                    507901,
                    518773,
                    798939,
                    1341511,
                    1947488,
                    1646041,
                    1762056,
                    1528476,
                    1272881,
                    1095935,
                    675527,
                    590932,
                    640671,
                    621670,
                    908245,
                    1616383,
                    1990985,
                    1847225,
                    1989173,
                    1603900,
                    1353370,
                    1239722,
                    776509,
                    665332,
                    753787,
                    739248,
                    1068408,
                    1980261,
                    1994896,
                    1776404,
                    1679274
                  ],
                  "yaxis": "y"
                }
              ],
              "layout": {
                "legend": {
                  "tracegroupgap": 0
                },
                "margin": {
                  "t": 60
                },
                "template": {
                  "data": {
                    "bar": [
                      {
                        "error_x": {
                          "color": "#2a3f5f"
                        },
                        "error_y": {
                          "color": "#2a3f5f"
                        },
                        "marker": {
                          "line": {
                            "color": "#E5ECF6",
                            "width": 0.5
                          },
                          "pattern": {
                            "fillmode": "overlay",
                            "size": 10,
                            "solidity": 0.2
                          }
                        },
                        "type": "bar"
                      }
                    ],
                    "barpolar": [
                      {
                        "marker": {
                          "line": {
                            "color": "#E5ECF6",
                            "width": 0.5
                          },
                          "pattern": {
                            "fillmode": "overlay",
                            "size": 10,
                            "solidity": 0.2
                          }
                        },
                        "type": "barpolar"
                      }
                    ],
                    "carpet": [
                      {
                        "aaxis": {
                          "endlinecolor": "#2a3f5f",
                          "gridcolor": "white",
                          "linecolor": "white",
                          "minorgridcolor": "white",
                          "startlinecolor": "#2a3f5f"
                        },
                        "baxis": {
                          "endlinecolor": "#2a3f5f",
                          "gridcolor": "white",
                          "linecolor": "white",
                          "minorgridcolor": "white",
                          "startlinecolor": "#2a3f5f"
                        },
                        "type": "carpet"
                      }
                    ],
                    "choropleth": [
                      {
                        "colorbar": {
                          "outlinewidth": 0,
                          "ticks": ""
                        },
                        "type": "choropleth"
                      }
                    ],
                    "contour": [
                      {
                        "colorbar": {
                          "outlinewidth": 0,
                          "ticks": ""
                        },
                        "colorscale": [
                          [
                            0,
                            "#0d0887"
                          ],
                          [
                            0.1111111111111111,
                            "#46039f"
                          ],
                          [
                            0.2222222222222222,
                            "#7201a8"
                          ],
                          [
                            0.3333333333333333,
                            "#9c179e"
                          ],
                          [
                            0.4444444444444444,
                            "#bd3786"
                          ],
                          [
                            0.5555555555555556,
                            "#d8576b"
                          ],
                          [
                            0.6666666666666666,
                            "#ed7953"
                          ],
                          [
                            0.7777777777777778,
                            "#fb9f3a"
                          ],
                          [
                            0.8888888888888888,
                            "#fdca26"
                          ],
                          [
                            1,
                            "#f0f921"
                          ]
                        ],
                        "type": "contour"
                      }
                    ],
                    "contourcarpet": [
                      {
                        "colorbar": {
                          "outlinewidth": 0,
                          "ticks": ""
                        },
                        "type": "contourcarpet"
                      }
                    ],
                    "heatmap": [
                      {
                        "colorbar": {
                          "outlinewidth": 0,
                          "ticks": ""
                        },
                        "colorscale": [
                          [
                            0,
                            "#0d0887"
                          ],
                          [
                            0.1111111111111111,
                            "#46039f"
                          ],
                          [
                            0.2222222222222222,
                            "#7201a8"
                          ],
                          [
                            0.3333333333333333,
                            "#9c179e"
                          ],
                          [
                            0.4444444444444444,
                            "#bd3786"
                          ],
                          [
                            0.5555555555555556,
                            "#d8576b"
                          ],
                          [
                            0.6666666666666666,
                            "#ed7953"
                          ],
                          [
                            0.7777777777777778,
                            "#fb9f3a"
                          ],
                          [
                            0.8888888888888888,
                            "#fdca26"
                          ],
                          [
                            1,
                            "#f0f921"
                          ]
                        ],
                        "type": "heatmap"
                      }
                    ],
                    "heatmapgl": [
                      {
                        "colorbar": {
                          "outlinewidth": 0,
                          "ticks": ""
                        },
                        "colorscale": [
                          [
                            0,
                            "#0d0887"
                          ],
                          [
                            0.1111111111111111,
                            "#46039f"
                          ],
                          [
                            0.2222222222222222,
                            "#7201a8"
                          ],
                          [
                            0.3333333333333333,
                            "#9c179e"
                          ],
                          [
                            0.4444444444444444,
                            "#bd3786"
                          ],
                          [
                            0.5555555555555556,
                            "#d8576b"
                          ],
                          [
                            0.6666666666666666,
                            "#ed7953"
                          ],
                          [
                            0.7777777777777778,
                            "#fb9f3a"
                          ],
                          [
                            0.8888888888888888,
                            "#fdca26"
                          ],
                          [
                            1,
                            "#f0f921"
                          ]
                        ],
                        "type": "heatmapgl"
                      }
                    ],
                    "histogram": [
                      {
                        "marker": {
                          "pattern": {
                            "fillmode": "overlay",
                            "size": 10,
                            "solidity": 0.2
                          }
                        },
                        "type": "histogram"
                      }
                    ],
                    "histogram2d": [
                      {
                        "colorbar": {
                          "outlinewidth": 0,
                          "ticks": ""
                        },
                        "colorscale": [
                          [
                            0,
                            "#0d0887"
                          ],
                          [
                            0.1111111111111111,
                            "#46039f"
                          ],
                          [
                            0.2222222222222222,
                            "#7201a8"
                          ],
                          [
                            0.3333333333333333,
                            "#9c179e"
                          ],
                          [
                            0.4444444444444444,
                            "#bd3786"
                          ],
                          [
                            0.5555555555555556,
                            "#d8576b"
                          ],
                          [
                            0.6666666666666666,
                            "#ed7953"
                          ],
                          [
                            0.7777777777777778,
                            "#fb9f3a"
                          ],
                          [
                            0.8888888888888888,
                            "#fdca26"
                          ],
                          [
                            1,
                            "#f0f921"
                          ]
                        ],
                        "type": "histogram2d"
                      }
                    ],
                    "histogram2dcontour": [
                      {
                        "colorbar": {
                          "outlinewidth": 0,
                          "ticks": ""
                        },
                        "colorscale": [
                          [
                            0,
                            "#0d0887"
                          ],
                          [
                            0.1111111111111111,
                            "#46039f"
                          ],
                          [
                            0.2222222222222222,
                            "#7201a8"
                          ],
                          [
                            0.3333333333333333,
                            "#9c179e"
                          ],
                          [
                            0.4444444444444444,
                            "#bd3786"
                          ],
                          [
                            0.5555555555555556,
                            "#d8576b"
                          ],
                          [
                            0.6666666666666666,
                            "#ed7953"
                          ],
                          [
                            0.7777777777777778,
                            "#fb9f3a"
                          ],
                          [
                            0.8888888888888888,
                            "#fdca26"
                          ],
                          [
                            1,
                            "#f0f921"
                          ]
                        ],
                        "type": "histogram2dcontour"
                      }
                    ],
                    "mesh3d": [
                      {
                        "colorbar": {
                          "outlinewidth": 0,
                          "ticks": ""
                        },
                        "type": "mesh3d"
                      }
                    ],
                    "parcoords": [
                      {
                        "line": {
                          "colorbar": {
                            "outlinewidth": 0,
                            "ticks": ""
                          }
                        },
                        "type": "parcoords"
                      }
                    ],
                    "pie": [
                      {
                        "automargin": true,
                        "type": "pie"
                      }
                    ],
                    "scatter": [
                      {
                        "fillpattern": {
                          "fillmode": "overlay",
                          "size": 10,
                          "solidity": 0.2
                        },
                        "type": "scatter"
                      }
                    ],
                    "scatter3d": [
                      {
                        "line": {
                          "colorbar": {
                            "outlinewidth": 0,
                            "ticks": ""
                          }
                        },
                        "marker": {
                          "colorbar": {
                            "outlinewidth": 0,
                            "ticks": ""
                          }
                        },
                        "type": "scatter3d"
                      }
                    ],
                    "scattercarpet": [
                      {
                        "marker": {
                          "colorbar": {
                            "outlinewidth": 0,
                            "ticks": ""
                          }
                        },
                        "type": "scattercarpet"
                      }
                    ],
                    "scattergeo": [
                      {
                        "marker": {
                          "colorbar": {
                            "outlinewidth": 0,
                            "ticks": ""
                          }
                        },
                        "type": "scattergeo"
                      }
                    ],
                    "scattergl": [
                      {
                        "marker": {
                          "colorbar": {
                            "outlinewidth": 0,
                            "ticks": ""
                          }
                        },
                        "type": "scattergl"
                      }
                    ],
                    "scattermapbox": [
                      {
                        "marker": {
                          "colorbar": {
                            "outlinewidth": 0,
                            "ticks": ""
                          }
                        },
                        "type": "scattermapbox"
                      }
                    ],
                    "scatterpolar": [
                      {
                        "marker": {
                          "colorbar": {
                            "outlinewidth": 0,
                            "ticks": ""
                          }
                        },
                        "type": "scatterpolar"
                      }
                    ],
                    "scatterpolargl": [
                      {
                        "marker": {
                          "colorbar": {
                            "outlinewidth": 0,
                            "ticks": ""
                          }
                        },
                        "type": "scatterpolargl"
                      }
                    ],
                    "scatterternary": [
                      {
                        "marker": {
                          "colorbar": {
                            "outlinewidth": 0,
                            "ticks": ""
                          }
                        },
                        "type": "scatterternary"
                      }
                    ],
                    "surface": [
                      {
                        "colorbar": {
                          "outlinewidth": 0,
                          "ticks": ""
                        },
                        "colorscale": [
                          [
                            0,
                            "#0d0887"
                          ],
                          [
                            0.1111111111111111,
                            "#46039f"
                          ],
                          [
                            0.2222222222222222,
                            "#7201a8"
                          ],
                          [
                            0.3333333333333333,
                            "#9c179e"
                          ],
                          [
                            0.4444444444444444,
                            "#bd3786"
                          ],
                          [
                            0.5555555555555556,
                            "#d8576b"
                          ],
                          [
                            0.6666666666666666,
                            "#ed7953"
                          ],
                          [
                            0.7777777777777778,
                            "#fb9f3a"
                          ],
                          [
                            0.8888888888888888,
                            "#fdca26"
                          ],
                          [
                            1,
                            "#f0f921"
                          ]
                        ],
                        "type": "surface"
                      }
                    ],
                    "table": [
                      {
                        "cells": {
                          "fill": {
                            "color": "#EBF0F8"
                          },
                          "line": {
                            "color": "white"
                          }
                        },
                        "header": {
                          "fill": {
                            "color": "#C8D4E3"
                          },
                          "line": {
                            "color": "white"
                          }
                        },
                        "type": "table"
                      }
                    ]
                  },
                  "layout": {
                    "annotationdefaults": {
                      "arrowcolor": "#2a3f5f",
                      "arrowhead": 0,
                      "arrowwidth": 1
                    },
                    "autotypenumbers": "strict",
                    "coloraxis": {
                      "colorbar": {
                        "outlinewidth": 0,
                        "ticks": ""
                      }
                    },
                    "colorscale": {
                      "diverging": [
                        [
                          0,
                          "#8e0152"
                        ],
                        [
                          0.1,
                          "#c51b7d"
                        ],
                        [
                          0.2,
                          "#de77ae"
                        ],
                        [
                          0.3,
                          "#f1b6da"
                        ],
                        [
                          0.4,
                          "#fde0ef"
                        ],
                        [
                          0.5,
                          "#f7f7f7"
                        ],
                        [
                          0.6,
                          "#e6f5d0"
                        ],
                        [
                          0.7,
                          "#b8e186"
                        ],
                        [
                          0.8,
                          "#7fbc41"
                        ],
                        [
                          0.9,
                          "#4d9221"
                        ],
                        [
                          1,
                          "#276419"
                        ]
                      ],
                      "sequential": [
                        [
                          0,
                          "#0d0887"
                        ],
                        [
                          0.1111111111111111,
                          "#46039f"
                        ],
                        [
                          0.2222222222222222,
                          "#7201a8"
                        ],
                        [
                          0.3333333333333333,
                          "#9c179e"
                        ],
                        [
                          0.4444444444444444,
                          "#bd3786"
                        ],
                        [
                          0.5555555555555556,
                          "#d8576b"
                        ],
                        [
                          0.6666666666666666,
                          "#ed7953"
                        ],
                        [
                          0.7777777777777778,
                          "#fb9f3a"
                        ],
                        [
                          0.8888888888888888,
                          "#fdca26"
                        ],
                        [
                          1,
                          "#f0f921"
                        ]
                      ],
                      "sequentialminus": [
                        [
                          0,
                          "#0d0887"
                        ],
                        [
                          0.1111111111111111,
                          "#46039f"
                        ],
                        [
                          0.2222222222222222,
                          "#7201a8"
                        ],
                        [
                          0.3333333333333333,
                          "#9c179e"
                        ],
                        [
                          0.4444444444444444,
                          "#bd3786"
                        ],
                        [
                          0.5555555555555556,
                          "#d8576b"
                        ],
                        [
                          0.6666666666666666,
                          "#ed7953"
                        ],
                        [
                          0.7777777777777778,
                          "#fb9f3a"
                        ],
                        [
                          0.8888888888888888,
                          "#fdca26"
                        ],
                        [
                          1,
                          "#f0f921"
                        ]
                      ]
                    },
                    "colorway": [
                      "#636efa",
                      "#EF553B",
                      "#00cc96",
                      "#ab63fa",
                      "#FFA15A",
                      "#19d3f3",
                      "#FF6692",
                      "#B6E880",
                      "#FF97FF",
                      "#FECB52"
                    ],
                    "font": {
                      "color": "#2a3f5f"
                    },
                    "geo": {
                      "bgcolor": "white",
                      "lakecolor": "white",
                      "landcolor": "#E5ECF6",
                      "showlakes": true,
                      "showland": true,
                      "subunitcolor": "white"
                    },
                    "hoverlabel": {
                      "align": "left"
                    },
                    "hovermode": "closest",
                    "mapbox": {
                      "style": "light"
                    },
                    "paper_bgcolor": "white",
                    "plot_bgcolor": "#E5ECF6",
                    "polar": {
                      "angularaxis": {
                        "gridcolor": "white",
                        "linecolor": "white",
                        "ticks": ""
                      },
                      "bgcolor": "#E5ECF6",
                      "radialaxis": {
                        "gridcolor": "white",
                        "linecolor": "white",
                        "ticks": ""
                      }
                    },
                    "scene": {
                      "xaxis": {
                        "backgroundcolor": "#E5ECF6",
                        "gridcolor": "white",
                        "gridwidth": 2,
                        "linecolor": "white",
                        "showbackground": true,
                        "ticks": "",
                        "zerolinecolor": "white"
                      },
                      "yaxis": {
                        "backgroundcolor": "#E5ECF6",
                        "gridcolor": "white",
                        "gridwidth": 2,
                        "linecolor": "white",
                        "showbackground": true,
                        "ticks": "",
                        "zerolinecolor": "white"
                      },
                      "zaxis": {
                        "backgroundcolor": "#E5ECF6",
                        "gridcolor": "white",
                        "gridwidth": 2,
                        "linecolor": "white",
                        "showbackground": true,
                        "ticks": "",
                        "zerolinecolor": "white"
                      }
                    },
                    "shapedefaults": {
                      "line": {
                        "color": "#2a3f5f"
                      }
                    },
                    "ternary": {
                      "aaxis": {
                        "gridcolor": "white",
                        "linecolor": "white",
                        "ticks": ""
                      },
                      "baxis": {
                        "gridcolor": "white",
                        "linecolor": "white",
                        "ticks": ""
                      },
                      "bgcolor": "#E5ECF6",
                      "caxis": {
                        "gridcolor": "white",
                        "linecolor": "white",
                        "ticks": ""
                      }
                    },
                    "title": {
                      "x": 0.05
                    },
                    "xaxis": {
                      "automargin": true,
                      "gridcolor": "white",
                      "linecolor": "white",
                      "ticks": "",
                      "title": {
                        "standoff": 15
                      },
                      "zerolinecolor": "white",
                      "zerolinewidth": 2
                    },
                    "yaxis": {
                      "automargin": true,
                      "gridcolor": "white",
                      "linecolor": "white",
                      "ticks": "",
                      "title": {
                        "standoff": 15
                      },
                      "zerolinecolor": "white",
                      "zerolinewidth": 2
                    }
                  }
                },
                "xaxis": {
                  "anchor": "y",
                  "domain": [
                    0,
                    1
                  ],
                  "title": {
                    "text": "DATE"
                  }
                },
                "yaxis": {
                  "anchor": "x",
                  "domain": [
                    0,
                    1
                  ],
                  "title": {
                    "text": "Nbre d'observations (millions)"
                  }
                }
              }
            }
          },
          "metadata": {},
          "output_type": "display_data"
        }
      ],
      "source": [
        "fig = px.line(df, x=df.index , y='nb')\n",
        "\n",
        "fig.update_layout(yaxis_title=\"Nbre d'observations (millions)\")\n",
        "\n",
        "fig.show()\n"
      ]
    },
    {
      "cell_type": "markdown",
      "metadata": {},
      "source": [
        "## 3. Split des données en données d'entraînement et données de test"
      ]
    },
    {
      "cell_type": "markdown",
      "metadata": {},
      "source": [
        "On considère que les 18 derniers mois constitueront nos données de test et celles d'avant seront nos données d'entraînement"
      ]
    },
    {
      "cell_type": "code",
      "execution_count": 19,
      "metadata": {},
      "outputs": [
        {
          "name": "stdout",
          "output_type": "stream",
          "text": [
            "Longueur du dataset train : 61\n",
            "Longueur du dataset test : 18\n"
          ]
        }
      ],
      "source": [
        "test_len = 18 \n",
        "\n",
        "ind = len(df) - test_len\n",
        "train = df[:ind] #train : toutes les données sauf les 18 derniers mois\n",
        "test = df[ind:] #test : les 18 derniers mois\n",
        "\n",
        "print(f'Longueur du dataset train : {len(train)}')\n",
        "print(f'Longueur du dataset test : {len(test)}')\n"
      ]
    },
    {
      "cell_type": "markdown",
      "metadata": {},
      "source": [
        "Aperçu de notre ensemble de test ?"
      ]
    },
    {
      "cell_type": "code",
      "execution_count": 20,
      "metadata": {},
      "outputs": [
        {
          "data": {
            "text/html": [
              "<div>\n",
              "<style scoped>\n",
              "    .dataframe tbody tr th:only-of-type {\n",
              "        vertical-align: middle;\n",
              "    }\n",
              "\n",
              "    .dataframe tbody tr th {\n",
              "        vertical-align: top;\n",
              "    }\n",
              "\n",
              "    .dataframe thead th {\n",
              "        text-align: right;\n",
              "    }\n",
              "</style>\n",
              "<table border=\"1\" class=\"dataframe\">\n",
              "  <thead>\n",
              "    <tr style=\"text-align: right;\">\n",
              "      <th></th>\n",
              "      <th>nb</th>\n",
              "    </tr>\n",
              "    <tr>\n",
              "      <th>DATE</th>\n",
              "      <th></th>\n",
              "    </tr>\n",
              "  </thead>\n",
              "  <tbody>\n",
              "    <tr>\n",
              "      <th>2022-02-01</th>\n",
              "      <td>621670</td>\n",
              "    </tr>\n",
              "    <tr>\n",
              "      <th>2022-03-01</th>\n",
              "      <td>908245</td>\n",
              "    </tr>\n",
              "    <tr>\n",
              "      <th>2022-04-01</th>\n",
              "      <td>1616383</td>\n",
              "    </tr>\n",
              "    <tr>\n",
              "      <th>2022-05-01</th>\n",
              "      <td>1990985</td>\n",
              "    </tr>\n",
              "    <tr>\n",
              "      <th>2022-06-01</th>\n",
              "      <td>1847225</td>\n",
              "    </tr>\n",
              "    <tr>\n",
              "      <th>2022-07-01</th>\n",
              "      <td>1989173</td>\n",
              "    </tr>\n",
              "    <tr>\n",
              "      <th>2022-08-01</th>\n",
              "      <td>1603900</td>\n",
              "    </tr>\n",
              "    <tr>\n",
              "      <th>2022-09-01</th>\n",
              "      <td>1353370</td>\n",
              "    </tr>\n",
              "    <tr>\n",
              "      <th>2022-10-01</th>\n",
              "      <td>1239722</td>\n",
              "    </tr>\n",
              "    <tr>\n",
              "      <th>2022-11-01</th>\n",
              "      <td>776509</td>\n",
              "    </tr>\n",
              "    <tr>\n",
              "      <th>2022-12-01</th>\n",
              "      <td>665332</td>\n",
              "    </tr>\n",
              "    <tr>\n",
              "      <th>2023-01-01</th>\n",
              "      <td>753787</td>\n",
              "    </tr>\n",
              "    <tr>\n",
              "      <th>2023-02-01</th>\n",
              "      <td>739248</td>\n",
              "    </tr>\n",
              "    <tr>\n",
              "      <th>2023-03-01</th>\n",
              "      <td>1068408</td>\n",
              "    </tr>\n",
              "    <tr>\n",
              "      <th>2023-04-01</th>\n",
              "      <td>1980261</td>\n",
              "    </tr>\n",
              "    <tr>\n",
              "      <th>2023-05-01</th>\n",
              "      <td>1994896</td>\n",
              "    </tr>\n",
              "    <tr>\n",
              "      <th>2023-06-01</th>\n",
              "      <td>1776404</td>\n",
              "    </tr>\n",
              "    <tr>\n",
              "      <th>2023-07-01</th>\n",
              "      <td>1679274</td>\n",
              "    </tr>\n",
              "  </tbody>\n",
              "</table>\n",
              "</div>"
            ],
            "text/plain": [
              "                 nb\n",
              "DATE               \n",
              "2022-02-01   621670\n",
              "2022-03-01   908245\n",
              "2022-04-01  1616383\n",
              "2022-05-01  1990985\n",
              "2022-06-01  1847225\n",
              "2022-07-01  1989173\n",
              "2022-08-01  1603900\n",
              "2022-09-01  1353370\n",
              "2022-10-01  1239722\n",
              "2022-11-01   776509\n",
              "2022-12-01   665332\n",
              "2023-01-01   753787\n",
              "2023-02-01   739248\n",
              "2023-03-01  1068408\n",
              "2023-04-01  1980261\n",
              "2023-05-01  1994896\n",
              "2023-06-01  1776404\n",
              "2023-07-01  1679274"
            ]
          },
          "execution_count": 20,
          "metadata": {},
          "output_type": "execute_result"
        }
      ],
      "source": [
        "test"
      ]
    },
    {
      "cell_type": "markdown",
      "metadata": {},
      "source": [
        "Mise à l'échelle des données test et train avec MinMaxScaler()"
      ]
    },
    {
      "cell_type": "code",
      "execution_count": 21,
      "metadata": {},
      "outputs": [],
      "source": [
        "sc = MinMaxScaler()\n",
        "train_sc = sc.fit_transform(train)\n",
        "test_sc = sc.transform(test)"
      ]
    },
    {
      "cell_type": "markdown",
      "metadata": {},
      "source": [
        "La mise à l'échelle des données transforme les données en nombre décimaux entre 0 et 1 pour une facilité de traitement.\n",
        "Il faudra donc faire l'opération inverse après traitement.\n",
        "\n",
        "La mise à l'échelle s'est faite avec les données train_sc, puis appliquée également sur les données test_sc.\n",
        "C'est pour cela qu'on peut trouver des données supérieures à 1 dans test_sc (pour les données plus grandes que la max des données présente dans train)"
      ]
    },
    {
      "cell_type": "code",
      "execution_count": 22,
      "metadata": {},
      "outputs": [
        {
          "data": {
            "text/plain": [
              "array([[0.28173154],\n",
              "       [0.43698496],\n",
              "       [0.82062223],\n",
              "       [1.02356472],\n",
              "       [0.94568202],\n",
              "       [1.02258306],\n",
              "       [0.8138595 ],\n",
              "       [0.67813363],\n",
              "       [0.61656427],\n",
              "       [0.36561633],\n",
              "       [0.30538564],\n",
              "       [0.35330657],\n",
              "       [0.34543   ],\n",
              "       [0.52375406],\n",
              "       [1.01775493],\n",
              "       [1.02568352],\n",
              "       [0.9073144 ],\n",
              "       [0.85469374]])"
            ]
          },
          "execution_count": 22,
          "metadata": {},
          "output_type": "execute_result"
        }
      ],
      "source": [
        "test_sc"
      ]
    },
    {
      "cell_type": "markdown",
      "metadata": {},
      "source": [
        "## 4. Construire train et test generators"
      ]
    },
    {
      "cell_type": "markdown",
      "metadata": {},
      "source": [
        "Comme on a ici une seule série, qui sera à la fois les données de départ (sur 12 mois, X) et la résultante (le mois suivant, y), il faut construire pour les 2 datasets de données, "
      ]
    },
    {
      "cell_type": "code",
      "execution_count": 23,
      "metadata": {},
      "outputs": [],
      "source": [
        "#on prend 12 données (sequence_length) pour prédire la prochaine donnée (out_len))\n",
        "\n",
        "sequence_length = 12 \n",
        "out_len = 1\n",
        "\n",
        "# Train Generator\n",
        "train_gen = TimeseriesGenerator(data = train_sc,\n",
        "                                targets = train_sc,\n",
        "                                length = sequence_length,\n",
        "                                batch_size = out_len)\n",
        "\n",
        "# Test Generator\n",
        "test_gen = TimeseriesGenerator(data = test_sc,\n",
        "                                targets = test_sc,\n",
        "                                length = sequence_length,\n",
        "                                batch_size = out_len)"
      ]
    },
    {
      "cell_type": "code",
      "execution_count": 24,
      "metadata": {},
      "outputs": [
        {
          "name": "stdout",
          "output_type": "stream",
          "text": [
            "Length of Train set: 61\n",
            "Length of Train Generator:49\n",
            "Length of Test set: 18\n",
            "Length of Test Generator:6\n"
          ]
        }
      ],
      "source": [
        "print(f'Length of Train set: {len(train)}')\n",
        "print(f'Length of Train Generator:{len(train_gen)}')\n",
        "\n",
        "print(f'Length of Test set: {len(test)}')\n",
        "print(f'Length of Test Generator:{len(test_gen)}')"
      ]
    },
    {
      "cell_type": "markdown",
      "metadata": {},
      "source": [
        "Explication des données obtenues suite à l'utilisation de TimeseriesGenerator : les 12 données de X dans l'exemple ici permettront de prédire la données y du mois suivant. Puis l'opération se décale d'un mois en reprenant le mois prédit précédemment parmis les 12 derniers mois."
      ]
    },
    {
      "cell_type": "code",
      "execution_count": 25,
      "metadata": {},
      "outputs": [
        {
          "name": "stdout",
          "output_type": "stream",
          "text": [
            "First train_gen object input (X): 12\n",
            " [[[0.        ]\n",
            "  [0.00373919]\n",
            "  [0.03326646]\n",
            "  [0.09785557]\n",
            "  [0.08733632]\n",
            "  [0.09205879]\n",
            "  [0.10545802]\n",
            "  [0.08241176]\n",
            "  [0.06736398]\n",
            "  [0.05087458]\n",
            "  [0.0312533 ]\n",
            "  [0.02322774]]]\n",
            "\n",
            "First train_gen object output (y): 1\n",
            " [[0.03162115]]\n"
          ]
        }
      ],
      "source": [
        "X, y = train_gen[0] # First gen object\n",
        "\n",
        "print(f'First train_gen object input (X): {len(X[0])}\\n {X}\\n') \n",
        "print(f'First train_gen object output (y): {len(y[0])}\\n {y}') "
      ]
    },
    {
      "cell_type": "markdown",
      "metadata": {},
      "source": [
        "## 5. Construction du modèle LSTM"
      ]
    },
    {
      "cell_type": "code",
      "execution_count": 26,
      "metadata": {},
      "outputs": [],
      "source": [
        "# Construction du modèle LSTM\n",
        "model = Sequential()\n",
        "model.add(LSTM(150, activation='relu', input_shape=(sequence_length, 1)))\n",
        "\n",
        "#ajout d'une couche de droput pour éviter l'overfitting :\n",
        "model.add(Dropout(0.30)) \n",
        "\n",
        "model.add(Dense(1))\n",
        "\n",
        "model.compile(optimizer='adam', loss='mse')"
      ]
    },
    {
      "cell_type": "markdown",
      "metadata": {},
      "source": [
        "Entraînement du modèle"
      ]
    },
    {
      "cell_type": "code",
      "execution_count": 27,
      "metadata": {},
      "outputs": [
        {
          "name": "stdout",
          "output_type": "stream",
          "text": [
            "Epoch 1/100\n",
            "49/49 [==============================] - 1s 7ms/step - loss: 0.0717 - val_loss: 0.0954\n",
            "Epoch 2/100\n",
            "49/49 [==============================] - 0s 3ms/step - loss: 0.0400 - val_loss: 0.0722\n",
            "Epoch 3/100\n",
            "49/49 [==============================] - 0s 3ms/step - loss: 0.0422 - val_loss: 0.1164\n",
            "Epoch 4/100\n",
            "49/49 [==============================] - 0s 3ms/step - loss: 0.0384 - val_loss: 0.0418\n",
            "Epoch 5/100\n",
            "49/49 [==============================] - 0s 3ms/step - loss: 0.0318 - val_loss: 0.0310\n",
            "Epoch 6/100\n",
            "49/49 [==============================] - 0s 3ms/step - loss: 0.0292 - val_loss: 0.0256\n",
            "Epoch 7/100\n",
            "49/49 [==============================] - 0s 3ms/step - loss: 0.0440 - val_loss: 0.2358\n",
            "Epoch 8/100\n",
            "49/49 [==============================] - 0s 3ms/step - loss: 0.0390 - val_loss: 0.0253\n",
            "Epoch 9/100\n",
            "49/49 [==============================] - 0s 3ms/step - loss: 0.0275 - val_loss: 0.0999\n",
            "Epoch 10/100\n",
            "49/49 [==============================] - 0s 3ms/step - loss: 0.0321 - val_loss: 0.0375\n",
            "Epoch 11/100\n",
            "49/49 [==============================] - 0s 3ms/step - loss: 0.0140 - val_loss: 0.1359\n",
            "Epoch 12/100\n",
            "49/49 [==============================] - 0s 3ms/step - loss: 0.0217 - val_loss: 0.1683\n",
            "Epoch 13/100\n",
            "49/49 [==============================] - 0s 3ms/step - loss: 0.0430 - val_loss: 0.0468\n",
            "Epoch 14/100\n",
            "49/49 [==============================] - 0s 3ms/step - loss: 0.0293 - val_loss: 0.0253\n",
            "Epoch 15/100\n",
            "49/49 [==============================] - 0s 3ms/step - loss: 0.0221 - val_loss: 0.0209\n",
            "Epoch 16/100\n",
            "49/49 [==============================] - 0s 4ms/step - loss: 0.0165 - val_loss: 0.0376\n",
            "Epoch 17/100\n",
            "49/49 [==============================] - 0s 3ms/step - loss: 0.0207 - val_loss: 0.0280\n",
            "Epoch 18/100\n",
            "49/49 [==============================] - 0s 3ms/step - loss: 0.0137 - val_loss: 0.0494\n",
            "Epoch 19/100\n",
            "49/49 [==============================] - 0s 3ms/step - loss: 0.0196 - val_loss: 0.1318\n",
            "Epoch 20/100\n",
            "49/49 [==============================] - 0s 3ms/step - loss: 0.0323 - val_loss: 0.0571\n",
            "Epoch 21/100\n",
            "49/49 [==============================] - 0s 3ms/step - loss: 0.0202 - val_loss: 0.0724\n",
            "Epoch 22/100\n",
            "49/49 [==============================] - 0s 3ms/step - loss: 0.0142 - val_loss: 0.0247\n",
            "Epoch 23/100\n",
            "49/49 [==============================] - 0s 3ms/step - loss: 0.0077 - val_loss: 0.2374\n",
            "Epoch 24/100\n",
            "49/49 [==============================] - 0s 3ms/step - loss: 0.0233 - val_loss: 0.0297\n",
            "Epoch 25/100\n",
            "49/49 [==============================] - 0s 3ms/step - loss: 0.0139 - val_loss: 0.0853\n",
            "Epoch 26/100\n",
            "49/49 [==============================] - 0s 3ms/step - loss: 0.0141 - val_loss: 0.0424\n",
            "Epoch 27/100\n",
            "49/49 [==============================] - 0s 3ms/step - loss: 0.0175 - val_loss: 0.0478\n",
            "Epoch 28/100\n",
            "49/49 [==============================] - 0s 3ms/step - loss: 0.0080 - val_loss: 0.0194\n",
            "Epoch 29/100\n",
            "49/49 [==============================] - 0s 3ms/step - loss: 0.0051 - val_loss: 0.0742\n",
            "Epoch 30/100\n",
            "49/49 [==============================] - 0s 3ms/step - loss: 0.0061 - val_loss: 0.0349\n",
            "Epoch 31/100\n",
            "49/49 [==============================] - 0s 4ms/step - loss: 0.0139 - val_loss: 0.0242\n",
            "Epoch 32/100\n",
            "49/49 [==============================] - 0s 4ms/step - loss: 0.0050 - val_loss: 0.0317\n",
            "Epoch 33/100\n",
            "49/49 [==============================] - 0s 3ms/step - loss: 0.0078 - val_loss: 0.0219\n",
            "Epoch 34/100\n",
            "49/49 [==============================] - 0s 3ms/step - loss: 0.0103 - val_loss: 0.0151\n",
            "Epoch 35/100\n",
            "49/49 [==============================] - 0s 4ms/step - loss: 0.0063 - val_loss: 0.0440\n",
            "Epoch 36/100\n",
            "49/49 [==============================] - 0s 4ms/step - loss: 0.0083 - val_loss: 0.0220\n",
            "Epoch 37/100\n",
            "49/49 [==============================] - 0s 3ms/step - loss: 0.0067 - val_loss: 0.0368\n",
            "Epoch 38/100\n",
            "49/49 [==============================] - 0s 4ms/step - loss: 0.0054 - val_loss: 0.0143\n",
            "Epoch 39/100\n",
            "49/49 [==============================] - 0s 3ms/step - loss: 0.0214 - val_loss: 0.0654\n",
            "Epoch 40/100\n",
            "49/49 [==============================] - 0s 4ms/step - loss: 0.0099 - val_loss: 0.0278\n",
            "Epoch 41/100\n",
            "49/49 [==============================] - 0s 4ms/step - loss: 0.0100 - val_loss: 0.0177\n",
            "Epoch 42/100\n",
            "49/49 [==============================] - 0s 4ms/step - loss: 0.0071 - val_loss: 0.0306\n",
            "Epoch 43/100\n",
            "49/49 [==============================] - 0s 4ms/step - loss: 0.0093 - val_loss: 0.0153\n",
            "Epoch 44/100\n",
            "49/49 [==============================] - 0s 4ms/step - loss: 0.0069 - val_loss: 0.0206\n",
            "Epoch 45/100\n",
            "49/49 [==============================] - 0s 3ms/step - loss: 0.0069 - val_loss: 0.0191\n",
            "Epoch 46/100\n",
            "49/49 [==============================] - 0s 4ms/step - loss: 0.0074 - val_loss: 0.0139\n",
            "Epoch 47/100\n",
            "49/49 [==============================] - 0s 4ms/step - loss: 0.0077 - val_loss: 0.0325\n",
            "Epoch 48/100\n",
            "49/49 [==============================] - 0s 3ms/step - loss: 0.0077 - val_loss: 0.0128\n",
            "Epoch 49/100\n",
            "49/49 [==============================] - 0s 4ms/step - loss: 0.0058 - val_loss: 0.0131\n",
            "Epoch 50/100\n",
            "49/49 [==============================] - 0s 4ms/step - loss: 0.0057 - val_loss: 0.0131\n",
            "Epoch 51/100\n",
            "49/49 [==============================] - 0s 4ms/step - loss: 0.0048 - val_loss: 0.0153\n",
            "Epoch 52/100\n",
            "49/49 [==============================] - 0s 4ms/step - loss: 0.0057 - val_loss: 0.0125\n",
            "Epoch 53/100\n",
            "49/49 [==============================] - 0s 4ms/step - loss: 0.0045 - val_loss: 0.0122\n",
            "Epoch 54/100\n",
            "49/49 [==============================] - 0s 4ms/step - loss: 0.0081 - val_loss: 0.0126\n",
            "Epoch 55/100\n",
            "49/49 [==============================] - 0s 4ms/step - loss: 0.0061 - val_loss: 0.0135\n",
            "Epoch 56/100\n",
            "49/49 [==============================] - 0s 3ms/step - loss: 0.0078 - val_loss: 0.0174\n",
            "Epoch 57/100\n",
            "49/49 [==============================] - 0s 4ms/step - loss: 0.0044 - val_loss: 0.0149\n",
            "Epoch 58/100\n",
            "49/49 [==============================] - 0s 4ms/step - loss: 0.0030 - val_loss: 0.0116\n",
            "Epoch 59/100\n",
            "49/49 [==============================] - 0s 3ms/step - loss: 0.0037 - val_loss: 0.0125\n",
            "Epoch 60/100\n",
            "49/49 [==============================] - 0s 3ms/step - loss: 0.0065 - val_loss: 0.0170\n",
            "Epoch 61/100\n",
            "49/49 [==============================] - 0s 4ms/step - loss: 0.0096 - val_loss: 0.0118\n",
            "Epoch 62/100\n",
            "49/49 [==============================] - 0s 4ms/step - loss: 0.0055 - val_loss: 0.0108\n",
            "Epoch 63/100\n",
            "49/49 [==============================] - 0s 4ms/step - loss: 0.0071 - val_loss: 0.0103\n",
            "Epoch 64/100\n",
            "49/49 [==============================] - 0s 4ms/step - loss: 0.0042 - val_loss: 0.0105\n",
            "Epoch 65/100\n",
            "49/49 [==============================] - 0s 3ms/step - loss: 0.0046 - val_loss: 0.0116\n",
            "Epoch 66/100\n",
            "49/49 [==============================] - 0s 4ms/step - loss: 0.0047 - val_loss: 0.0141\n",
            "Epoch 67/100\n",
            "49/49 [==============================] - 0s 3ms/step - loss: 0.0063 - val_loss: 0.0105\n",
            "Epoch 68/100\n",
            "49/49 [==============================] - 0s 4ms/step - loss: 0.0052 - val_loss: 0.0100\n",
            "Epoch 69/100\n",
            "49/49 [==============================] - 0s 3ms/step - loss: 0.0031 - val_loss: 0.0168\n",
            "Epoch 70/100\n",
            "49/49 [==============================] - 0s 3ms/step - loss: 0.0032 - val_loss: 0.0108\n",
            "Epoch 71/100\n",
            "49/49 [==============================] - 0s 4ms/step - loss: 0.0066 - val_loss: 0.0130\n",
            "Epoch 72/100\n",
            "49/49 [==============================] - 0s 4ms/step - loss: 0.0036 - val_loss: 0.0113\n",
            "Epoch 73/100\n",
            "49/49 [==============================] - 0s 4ms/step - loss: 0.0051 - val_loss: 0.0206\n",
            "Epoch 74/100\n",
            "49/49 [==============================] - 0s 4ms/step - loss: 0.0064 - val_loss: 0.0133\n",
            "Epoch 75/100\n",
            "49/49 [==============================] - 0s 4ms/step - loss: 0.0049 - val_loss: 0.0086\n",
            "Epoch 76/100\n",
            "49/49 [==============================] - 0s 4ms/step - loss: 0.0028 - val_loss: 0.0104\n",
            "Epoch 77/100\n",
            "49/49 [==============================] - 0s 4ms/step - loss: 0.0046 - val_loss: 0.0089\n",
            "Epoch 78/100\n",
            "49/49 [==============================] - 0s 4ms/step - loss: 0.0045 - val_loss: 0.0109\n",
            "Epoch 79/100\n",
            "49/49 [==============================] - 0s 4ms/step - loss: 0.0041 - val_loss: 0.0102\n",
            "Epoch 80/100\n",
            "49/49 [==============================] - 0s 4ms/step - loss: 0.0046 - val_loss: 0.0092\n",
            "Epoch 81/100\n",
            "49/49 [==============================] - 0s 4ms/step - loss: 0.0039 - val_loss: 0.0088\n",
            "Epoch 82/100\n",
            "49/49 [==============================] - 0s 4ms/step - loss: 0.0074 - val_loss: 0.0124\n",
            "Epoch 83/100\n",
            "49/49 [==============================] - 0s 4ms/step - loss: 0.0053 - val_loss: 0.0080\n",
            "Epoch 84/100\n",
            "49/49 [==============================] - 0s 4ms/step - loss: 0.0049 - val_loss: 0.0277\n",
            "Epoch 85/100\n",
            "49/49 [==============================] - 0s 4ms/step - loss: 0.0071 - val_loss: 0.0243\n",
            "Epoch 86/100\n",
            "49/49 [==============================] - 0s 4ms/step - loss: 0.0053 - val_loss: 0.0113\n",
            "Epoch 87/100\n",
            "49/49 [==============================] - 0s 3ms/step - loss: 0.0037 - val_loss: 0.0089\n",
            "Epoch 88/100\n",
            "49/49 [==============================] - 0s 4ms/step - loss: 0.0054 - val_loss: 0.0143\n",
            "Epoch 89/100\n",
            "49/49 [==============================] - 0s 3ms/step - loss: 0.0067 - val_loss: 0.0079\n",
            "Epoch 90/100\n",
            "49/49 [==============================] - 0s 4ms/step - loss: 0.0036 - val_loss: 0.0155\n",
            "Epoch 91/100\n",
            "49/49 [==============================] - 0s 4ms/step - loss: 0.0054 - val_loss: 0.0082\n",
            "Epoch 92/100\n",
            "49/49 [==============================] - 0s 4ms/step - loss: 0.0056 - val_loss: 0.0255\n",
            "Epoch 93/100\n",
            "49/49 [==============================] - 0s 4ms/step - loss: 0.0029 - val_loss: 0.0072\n",
            "Epoch 94/100\n",
            "49/49 [==============================] - 0s 4ms/step - loss: 0.0052 - val_loss: 0.0088\n",
            "Epoch 95/100\n",
            "49/49 [==============================] - 0s 3ms/step - loss: 0.0056 - val_loss: 0.0099\n",
            "Epoch 96/100\n",
            "49/49 [==============================] - 0s 4ms/step - loss: 0.0047 - val_loss: 0.0098\n",
            "Epoch 97/100\n",
            "49/49 [==============================] - 0s 4ms/step - loss: 0.0070 - val_loss: 0.0095\n",
            "Epoch 98/100\n",
            "49/49 [==============================] - 0s 4ms/step - loss: 0.0085 - val_loss: 0.0107\n",
            "Epoch 99/100\n",
            "49/49 [==============================] - 0s 4ms/step - loss: 0.0058 - val_loss: 0.0095\n",
            "Epoch 100/100\n",
            "49/49 [==============================] - 0s 4ms/step - loss: 0.0051 - val_loss: 0.0118\n"
          ]
        },
        {
          "data": {
            "text/plain": [
              "<keras.callbacks.History at 0x26212190d90>"
            ]
          },
          "execution_count": 27,
          "metadata": {},
          "output_type": "execute_result"
        }
      ],
      "source": [
        "model.fit(train_gen, validation_data=test_gen, epochs=100)"
      ]
    },
    {
      "cell_type": "markdown",
      "metadata": {},
      "source": [
        "Récapitulation des informations du modèle"
      ]
    },
    {
      "cell_type": "code",
      "execution_count": 28,
      "metadata": {},
      "outputs": [
        {
          "name": "stdout",
          "output_type": "stream",
          "text": [
            "Model: \"sequential\"\n",
            "_________________________________________________________________\n",
            " Layer (type)                Output Shape              Param #   \n",
            "=================================================================\n",
            " lstm (LSTM)                 (None, 150)               91200     \n",
            "                                                                 \n",
            " dropout (Dropout)           (None, 150)               0         \n",
            "                                                                 \n",
            " dense (Dense)               (None, 1)                 151       \n",
            "                                                                 \n",
            "=================================================================\n",
            "Total params: 91,351\n",
            "Trainable params: 91,351\n",
            "Non-trainable params: 0\n",
            "_________________________________________________________________\n"
          ]
        }
      ],
      "source": [
        "model.summary()"
      ]
    },
    {
      "cell_type": "markdown",
      "metadata": {},
      "source": [
        "### Utilisation du modèle pour générer les prédictions sur les mêmes données que le \"test\""
      ]
    },
    {
      "cell_type": "code",
      "execution_count": 29,
      "metadata": {},
      "outputs": [
        {
          "name": "stdout",
          "output_type": "stream",
          "text": [
            "1/1 [==============================] - 0s 153ms/step\n",
            "1/1 [==============================] - 0s 14ms/step\n",
            "1/1 [==============================] - 0s 15ms/step\n",
            "1/1 [==============================] - 0s 19ms/step\n",
            "1/1 [==============================] - 0s 23ms/step\n",
            "1/1 [==============================] - 0s 25ms/step\n",
            "1/1 [==============================] - 0s 14ms/step\n",
            "1/1 [==============================] - 0s 16ms/step\n",
            "1/1 [==============================] - 0s 17ms/step\n",
            "1/1 [==============================] - 0s 15ms/step\n",
            "1/1 [==============================] - 0s 19ms/step\n",
            "1/1 [==============================] - 0s 19ms/step\n",
            "1/1 [==============================] - 0s 14ms/step\n",
            "1/1 [==============================] - 0s 13ms/step\n",
            "1/1 [==============================] - 0s 13ms/step\n",
            "1/1 [==============================] - 0s 17ms/step\n",
            "1/1 [==============================] - 0s 17ms/step\n",
            "1/1 [==============================] - 0s 22ms/step\n"
          ]
        }
      ],
      "source": [
        "# Liste vide pour stocker les prédictions :\n",
        "y_pred = [] \n",
        "\n",
        "# 12 dernières données d'entraînement pour prédire la suivante :\n",
        "train_sc_lastrows = train_sc[-sequence_length:] \n",
        "\n",
        "# Reshape (1, 12, 1)\n",
        "batch = train_sc_lastrows.reshape((1, sequence_length, 1)) \n",
        "\n",
        "for _ in range(len(test)): \n",
        "  pred = model.predict(batch) #Prédiction\n",
        "  y_pred.append(pred[0]) # Ajout de la prédiction à la liste\n",
        "  batch = np.append(batch[:,1:,:],[pred],axis=1) # On enlève le premier element de 'batch', on ajoute notre nouvelle prédiction à la fin, et on refait une prochaine prédiction."
      ]
    },
    {
      "cell_type": "markdown",
      "metadata": {},
      "source": [
        "Prédictions réalisées dans l'array y_pred :"
      ]
    },
    {
      "cell_type": "code",
      "execution_count": 30,
      "metadata": {},
      "outputs": [
        {
          "data": {
            "text/plain": [
              "[array([0.32032037], dtype=float32),\n",
              " array([0.59601074], dtype=float32),\n",
              " array([0.86049724], dtype=float32),\n",
              " array([0.9920997], dtype=float32),\n",
              " array([0.99335635], dtype=float32),\n",
              " array([0.9618952], dtype=float32),\n",
              " array([0.8630083], dtype=float32),\n",
              " array([0.7465078], dtype=float32),\n",
              " array([0.60566455], dtype=float32),\n",
              " array([0.4369076], dtype=float32),\n",
              " array([0.35898176], dtype=float32),\n",
              " array([0.33475554], dtype=float32),\n",
              " array([0.4457122], dtype=float32),\n",
              " array([0.70298916], dtype=float32),\n",
              " array([0.9156579], dtype=float32),\n",
              " array([1.0164821], dtype=float32),\n",
              " array([1.0275528], dtype=float32),\n",
              " array([0.9805387], dtype=float32)]"
            ]
          },
          "execution_count": 30,
          "metadata": {},
          "output_type": "execute_result"
        }
      ],
      "source": [
        "y_pred"
      ]
    },
    {
      "cell_type": "markdown",
      "metadata": {},
      "source": [
        "Remise à l'échelle de départ et ajout des prédictions à notre dataset test de départ :"
      ]
    },
    {
      "cell_type": "code",
      "execution_count": 31,
      "metadata": {},
      "outputs": [
        {
          "name": "stderr",
          "output_type": "stream",
          "text": [
            "C:\\Users\\Pauline\\AppData\\Local\\Temp\\ipykernel_13012\\3383274075.py:5: SettingWithCopyWarning: \n",
            "A value is trying to be set on a copy of a slice from a DataFrame.\n",
            "Try using .loc[row_indexer,col_indexer] = value instead\n",
            "\n",
            "See the caveats in the documentation: https://pandas.pydata.org/pandas-docs/stable/user_guide/indexing.html#returning-a-view-versus-a-copy\n",
            "  test['y_pred'] = y_pred\n"
          ]
        }
      ],
      "source": [
        "# On enlève la mise à l'échelle -> revenir à nos données de départ\n",
        "y_pred = sc.inverse_transform(y_pred) \n",
        "\n",
        "#Ajout des prdiction à notre data set test de départ pour comparaison :\n",
        "test['y_pred'] = y_pred "
      ]
    },
    {
      "cell_type": "markdown",
      "metadata": {},
      "source": [
        "Visualisation ensemble \"test\" après ajout y_pred :"
      ]
    },
    {
      "cell_type": "code",
      "execution_count": 32,
      "metadata": {},
      "outputs": [
        {
          "data": {
            "text/html": [
              "<div>\n",
              "<style scoped>\n",
              "    .dataframe tbody tr th:only-of-type {\n",
              "        vertical-align: middle;\n",
              "    }\n",
              "\n",
              "    .dataframe tbody tr th {\n",
              "        vertical-align: top;\n",
              "    }\n",
              "\n",
              "    .dataframe thead th {\n",
              "        text-align: right;\n",
              "    }\n",
              "</style>\n",
              "<table border=\"1\" class=\"dataframe\">\n",
              "  <thead>\n",
              "    <tr style=\"text-align: right;\">\n",
              "      <th></th>\n",
              "      <th>nb</th>\n",
              "      <th>y_pred</th>\n",
              "    </tr>\n",
              "    <tr>\n",
              "      <th>DATE</th>\n",
              "      <th></th>\n",
              "      <th></th>\n",
              "    </tr>\n",
              "  </thead>\n",
              "  <tbody>\n",
              "    <tr>\n",
              "      <th>2022-02-01</th>\n",
              "      <td>621670</td>\n",
              "      <td>6.928993e+05</td>\n",
              "    </tr>\n",
              "    <tr>\n",
              "      <th>2022-03-01</th>\n",
              "      <td>908245</td>\n",
              "      <td>1.201783e+06</td>\n",
              "    </tr>\n",
              "    <tr>\n",
              "      <th>2022-04-01</th>\n",
              "      <td>1616383</td>\n",
              "      <td>1.689986e+06</td>\n",
              "    </tr>\n",
              "    <tr>\n",
              "      <th>2022-05-01</th>\n",
              "      <td>1990985</td>\n",
              "      <td>1.932905e+06</td>\n",
              "    </tr>\n",
              "    <tr>\n",
              "      <th>2022-06-01</th>\n",
              "      <td>1847225</td>\n",
              "      <td>1.935225e+06</td>\n",
              "    </tr>\n",
              "    <tr>\n",
              "      <th>2022-07-01</th>\n",
              "      <td>1989173</td>\n",
              "      <td>1.877152e+06</td>\n",
              "    </tr>\n",
              "    <tr>\n",
              "      <th>2022-08-01</th>\n",
              "      <td>1603900</td>\n",
              "      <td>1.694621e+06</td>\n",
              "    </tr>\n",
              "    <tr>\n",
              "      <th>2022-09-01</th>\n",
              "      <td>1353370</td>\n",
              "      <td>1.479579e+06</td>\n",
              "    </tr>\n",
              "    <tr>\n",
              "      <th>2022-10-01</th>\n",
              "      <td>1239722</td>\n",
              "      <td>1.219603e+06</td>\n",
              "    </tr>\n",
              "    <tr>\n",
              "      <th>2022-11-01</th>\n",
              "      <td>776509</td>\n",
              "      <td>9.081022e+05</td>\n",
              "    </tr>\n",
              "    <tr>\n",
              "      <th>2022-12-01</th>\n",
              "      <td>665332</td>\n",
              "      <td>7.642626e+05</td>\n",
              "    </tr>\n",
              "    <tr>\n",
              "      <th>2023-01-01</th>\n",
              "      <td>753787</td>\n",
              "      <td>7.195445e+05</td>\n",
              "    </tr>\n",
              "    <tr>\n",
              "      <th>2023-02-01</th>\n",
              "      <td>739248</td>\n",
              "      <td>9.243542e+05</td>\n",
              "    </tr>\n",
              "    <tr>\n",
              "      <th>2023-03-01</th>\n",
              "      <td>1068408</td>\n",
              "      <td>1.399250e+06</td>\n",
              "    </tr>\n",
              "    <tr>\n",
              "      <th>2023-04-01</th>\n",
              "      <td>1980261</td>\n",
              "      <td>1.791805e+06</td>\n",
              "    </tr>\n",
              "    <tr>\n",
              "      <th>2023-05-01</th>\n",
              "      <td>1994896</td>\n",
              "      <td>1.977912e+06</td>\n",
              "    </tr>\n",
              "    <tr>\n",
              "      <th>2023-06-01</th>\n",
              "      <td>1776404</td>\n",
              "      <td>1.998346e+06</td>\n",
              "    </tr>\n",
              "    <tr>\n",
              "      <th>2023-07-01</th>\n",
              "      <td>1679274</td>\n",
              "      <td>1.911565e+06</td>\n",
              "    </tr>\n",
              "  </tbody>\n",
              "</table>\n",
              "</div>"
            ],
            "text/plain": [
              "                 nb        y_pred\n",
              "DATE                             \n",
              "2022-02-01   621670  6.928993e+05\n",
              "2022-03-01   908245  1.201783e+06\n",
              "2022-04-01  1616383  1.689986e+06\n",
              "2022-05-01  1990985  1.932905e+06\n",
              "2022-06-01  1847225  1.935225e+06\n",
              "2022-07-01  1989173  1.877152e+06\n",
              "2022-08-01  1603900  1.694621e+06\n",
              "2022-09-01  1353370  1.479579e+06\n",
              "2022-10-01  1239722  1.219603e+06\n",
              "2022-11-01   776509  9.081022e+05\n",
              "2022-12-01   665332  7.642626e+05\n",
              "2023-01-01   753787  7.195445e+05\n",
              "2023-02-01   739248  9.243542e+05\n",
              "2023-03-01  1068408  1.399250e+06\n",
              "2023-04-01  1980261  1.791805e+06\n",
              "2023-05-01  1994896  1.977912e+06\n",
              "2023-06-01  1776404  1.998346e+06\n",
              "2023-07-01  1679274  1.911565e+06"
            ]
          },
          "execution_count": 32,
          "metadata": {},
          "output_type": "execute_result"
        }
      ],
      "source": [
        "test"
      ]
    },
    {
      "cell_type": "markdown",
      "metadata": {},
      "source": [
        "Visualisation graphique de nos prédictions par rapport à nos données réelles :"
      ]
    },
    {
      "cell_type": "code",
      "execution_count": 33,
      "metadata": {},
      "outputs": [
        {
          "data": {
            "text/plain": [
              "<Axes: xlabel='DATE'>"
            ]
          },
          "execution_count": 33,
          "metadata": {},
          "output_type": "execute_result"
        },
        {
          "data": {
            "image/png": "[encoded data removed]",
            "text/plain": [
              "<Figure size 640x480 with 1 Axes>"
            ]
          },
          "metadata": {},
          "output_type": "display_data"
        }
      ],
      "source": [
        "test.plot() "
      ]
    },
    {
      "cell_type": "markdown",
      "metadata": {},
      "source": [
        "### Calcul des indicateurs de performance du modèle :"
      ]
    },
    {
      "cell_type": "code",
      "execution_count": 47,
      "metadata": {},
      "outputs": [
        {
          "name": "stdout",
          "output_type": "stream",
          "text": [
            "RMSE : 159147.81388826208\n",
            "Scatter Index: 0.200149710941929\n",
            "R-squared : 0.9018185945917903\n"
          ]
        }
      ],
      "source": [
        "rmse = mean_squared_error(test['nb'],test['y_pred'])**0.5\n",
        "df_mean = df['nb'].mean()\n",
        "print(f'RMSE : {rmse}')\n",
        "print(f'Scatter Index: {rmse/df_mean}')\n",
        "\n",
        "r2 = r2_score(test['nb'], test['y_pred'])\n",
        "print(f'R-squared : {r2}')"
      ]
    },
    {
      "cell_type": "markdown",
      "metadata": {},
      "source": [
        "- **RMSE (Root Mean Squared Error)** :\n",
        "\n",
        "RMSE est une mesure de l'erreur moyenne entre les valeurs prédites par le modèle (y_pred) et les valeurs réelles (test['nb']).\n",
        "Dans ce cas, le RMSE est d'environ 159,147.81, ce qui signifie que, en moyenne, les prédictions du modèle diffèrent d'environ 159,147.81 unités par rapport aux valeurs réelles.\n",
        "Un RMSE plus faible indique une meilleure précision. Le fait que le RMSE soit inférieur à la moyenne des données réelles est un indicateur positif, suggérant que le modèle a une certaine capacité à capturer les tendances dans les données.\n",
        "\n",
        "- **Scatter Index : Le Scatter Index** :\n",
        "\n",
        "Le Scatter Index est calculé en divisant le RMSE par la moyenne des données réelles.\n",
        "Un Scatter Index plus faible indique une meilleure performance.\n",
        "Ici, le Scatter Index est d'environ 0.200, ce qui signifie que l'erreur du modèle est d'environ 20 % de la moyenne des données réelles.\n",
        "Un Scatter Index de 0.2 suggère que le modèle a une performance relativement bonne, car l'erreur est d'environ 20 % de la variation naturelle des données.\n",
        "\n",
        "- **Coefficient de Détermination (R-squared)** :\n",
        "\n",
        "Le R-squared mesure la proportion de la variance dans les données de réponse qui est expliquée par le modèle.\n",
        "Un R-squared plus élevé indique un meilleur ajustement du modèle aux données.\n",
        "Dans ce cas, le R-squared est d'environ 0.902, ce qui est excellent. Cela signifie que le modèle explique environ 90.2 % de la variance dans les données réelles.\n",
        "Un R-squared aussi élevé suggère que le modèle LSTM est bien adapté aux données de test et peut prédire avec précision les valeurs futures."
      ]
    },
    {
      "cell_type": "markdown",
      "metadata": {},
      "source": [
        "## 6. Utilisation du modèle pour prédiction des 18 prochains mois"
      ]
    },
    {
      "cell_type": "markdown",
      "metadata": {},
      "source": [
        "Mise à l'échelle du dataset"
      ]
    },
    {
      "cell_type": "code",
      "execution_count": 39,
      "metadata": {},
      "outputs": [],
      "source": [
        "sc = MinMaxScaler()\n",
        "df_sc = sc.fit_transform(df)"
      ]
    },
    {
      "cell_type": "markdown",
      "metadata": {},
      "source": [
        "Aperçu de notre dataset mis à l'échelle :"
      ]
    },
    {
      "cell_type": "code",
      "execution_count": 40,
      "metadata": {},
      "outputs": [
        {
          "data": {
            "text/plain": [
              "array([[0.        ],\n",
              "       [0.00364556],\n",
              "       [0.03243346],\n",
              "       [0.09540523],\n",
              "       [0.08514938],\n",
              "       [0.08975361],\n",
              "       [0.10281731],\n",
              "       [0.08034814],\n",
              "       [0.06567716],\n",
              "       [0.04960066],\n",
              "       [0.03047071],\n",
              "       [0.02264611],\n",
              "       [0.03082935],\n",
              "       [0.02925006],\n",
              "       [0.07438119],\n",
              "       [0.18392657],\n",
              "       [0.16851876],\n",
              "       [0.17716258],\n",
              "       [0.18595429],\n",
              "       [0.15710195],\n",
              "       [0.13664888],\n",
              "       [0.11007938],\n",
              "       [0.07145502],\n",
              "       [0.06337267],\n",
              "       [0.07865793],\n",
              "       [0.07748483],\n",
              "       [0.167071  ],\n",
              "       [0.39454676],\n",
              "       [0.32185631],\n",
              "       [0.35958486],\n",
              "       [0.4008919 ],\n",
              "       [0.36092224],\n",
              "       [0.28476845],\n",
              "       [0.21979062],\n",
              "       [0.13413576],\n",
              "       [0.11566498],\n",
              "       [0.14669874],\n",
              "       [0.16292154],\n",
              "       [0.25980676],\n",
              "       [0.53075725],\n",
              "       [0.64108277],\n",
              "       [0.66519989],\n",
              "       [0.69473094],\n",
              "       [0.60265436],\n",
              "       [0.53396653],\n",
              "       [0.39301026],\n",
              "       [0.25010128],\n",
              "       [0.19580977],\n",
              "       [0.21458531],\n",
              "       [0.22032778],\n",
              "       [0.36830844],\n",
              "       [0.6548891 ],\n",
              "       [0.97495961],\n",
              "       [0.81573856],\n",
              "       [0.87701643],\n",
              "       [0.753642  ],\n",
              "       [0.61863948],\n",
              "       [0.52517851],\n",
              "       [0.30312355],\n",
              "       [0.25844139],\n",
              "       [0.28471299],\n",
              "       [0.27467687],\n",
              "       [0.42604269],\n",
              "       [0.80007352],\n",
              "       [0.99793425],\n",
              "       [0.92200177],\n",
              "       [0.99697717],\n",
              "       [0.79348014],\n",
              "       [0.6611529 ],\n",
              "       [0.60112525],\n",
              "       [0.35646115],\n",
              "       [0.29773866],\n",
              "       [0.34445964],\n",
              "       [0.3367803 ],\n",
              "       [0.51063905],\n",
              "       [0.99226995],\n",
              "       [1.        ],\n",
              "       [0.88459489],\n",
              "       [0.83329187]])"
            ]
          },
          "execution_count": 40,
          "metadata": {},
          "output_type": "execute_result"
        }
      ],
      "source": [
        "df_sc"
      ]
    },
    {
      "cell_type": "code",
      "execution_count": 48,
      "metadata": {},
      "outputs": [
        {
          "name": "stdout",
          "output_type": "stream",
          "text": [
            "1/1 [==============================] - 0s 14ms/step\n"
          ]
        },
        {
          "name": "stdout",
          "output_type": "stream",
          "text": [
            "1/1 [==============================] - 0s 14ms/step\n",
            "1/1 [==============================] - 0s 14ms/step\n",
            "1/1 [==============================] - 0s 13ms/step\n",
            "1/1 [==============================] - 0s 15ms/step\n",
            "1/1 [==============================] - 0s 14ms/step\n",
            "1/1 [==============================] - 0s 13ms/step\n",
            "1/1 [==============================] - 0s 14ms/step\n",
            "1/1 [==============================] - 0s 13ms/step\n",
            "1/1 [==============================] - 0s 14ms/step\n",
            "1/1 [==============================] - 0s 14ms/step\n",
            "1/1 [==============================] - 0s 14ms/step\n",
            "1/1 [==============================] - 0s 13ms/step\n",
            "1/1 [==============================] - 0s 14ms/step\n",
            "1/1 [==============================] - 0s 14ms/step\n",
            "1/1 [==============================] - 0s 15ms/step\n",
            "1/1 [==============================] - 0s 14ms/step\n",
            "1/1 [==============================] - 0s 14ms/step\n"
          ]
        }
      ],
      "source": [
        "interval = 18\n",
        "sequence_length = 12\n",
        "forecast = []\n",
        "sc_df_lastrows = df_sc[-sequence_length:]\n",
        "batch1 = sc_df_lastrows.reshape((1, sequence_length, 1))\n",
        "\n",
        "for _ in range(interval):\n",
        "  pred1 = model.predict(batch1)\n",
        "  forecast.append(pred1[0]) \n",
        "  batch1 = np.append(batch1[:,1:,:],[pred1],axis=1)"
      ]
    },
    {
      "cell_type": "markdown",
      "metadata": {},
      "source": [
        "Aperçu du dataset de prédictions :"
      ]
    },
    {
      "cell_type": "code",
      "execution_count": 49,
      "metadata": {},
      "outputs": [
        {
          "data": {
            "text/plain": [
              "[array([0.83768463], dtype=float32),\n",
              " array([0.75446427], dtype=float32),\n",
              " array([0.6382816], dtype=float32),\n",
              " array([0.47300163], dtype=float32),\n",
              " array([0.39585745], dtype=float32),\n",
              " array([0.37496492], dtype=float32),\n",
              " array([0.4719026], dtype=float32),\n",
              " array([0.7378016], dtype=float32),\n",
              " array([0.9549325], dtype=float32),\n",
              " array([0.99590236], dtype=float32),\n",
              " array([0.9627596], dtype=float32),\n",
              " array([0.921613], dtype=float32),\n",
              " array([0.8657823], dtype=float32),\n",
              " array([0.7760632], dtype=float32),\n",
              " array([0.6584302], dtype=float32),\n",
              " array([0.53167194], dtype=float32),\n",
              " array([0.44381332], dtype=float32),\n",
              " array([0.42854473], dtype=float32)]"
            ]
          },
          "execution_count": 49,
          "metadata": {},
          "output_type": "execute_result"
        }
      ],
      "source": [
        "forecast"
      ]
    },
    {
      "cell_type": "markdown",
      "metadata": {},
      "source": [
        "Inversion de la mise à l'échelle :"
      ]
    },
    {
      "cell_type": "code",
      "execution_count": 50,
      "metadata": {},
      "outputs": [],
      "source": [
        "forecast = sc.inverse_transform(forecast)"
      ]
    },
    {
      "cell_type": "markdown",
      "metadata": {},
      "source": [
        "Création d'un nouveau dataframe avec les dates futures"
      ]
    },
    {
      "cell_type": "code",
      "execution_count": 51,
      "metadata": {},
      "outputs": [],
      "source": [
        "fc_index = pd.date_range(start='2023-08-01', periods=interval, freq='MS')\n",
        "fc_df = pd.DataFrame(forecast, index=fc_index, columns=['forecast'])"
      ]
    },
    {
      "cell_type": "markdown",
      "metadata": {},
      "source": [
        "Visualisation graphique des prédictions du modèle :"
      ]
    },
    {
      "cell_type": "code",
      "execution_count": 52,
      "metadata": {},
      "outputs": [
        {
          "data": {
            "text/plain": [
              "<Axes: xlabel='DATE'>"
            ]
          },
          "execution_count": 52,
          "metadata": {},
          "output_type": "execute_result"
        },
        {
          "data": {
            "image/png": "[encoded data removed]",
            "text/plain": [
              "<Figure size 2500x1000 with 1 Axes>"
            ]
          },
          "metadata": {},
          "output_type": "display_data"
        }
      ],
      "source": [
        "ax = df.plot()\n",
        "fc_df.plot(ax=ax, figsize=(25,10))"
      ]
    }
  ],
  "metadata": {
    "accelerator": "GPU",
    "colab": {
      "provenance": []
    },
    "kernelspec": {
      "display_name": "Python 3",
      "name": "python3"
    },
    "language_info": {
      "codemirror_mode": {
        "name": "ipython",
        "version": 3
      },
      "file_extension": ".py",
      "mimetype": "text/x-python",
      "name": "python",
      "nbconvert_exporter": "python",
      "pygments_lexer": "ipython3",
      "version": "3.11.4"
    }
  },
  "nbformat": 4,
  "nbformat_minor": 0
}
